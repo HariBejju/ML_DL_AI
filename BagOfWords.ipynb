{
  "nbformat": 4,
  "nbformat_minor": 0,
  "metadata": {
    "colab": {
      "provenance": [],
      "authorship_tag": "ABX9TyMp57yfON0EUvuchFeGa5Mc",
      "include_colab_link": true
    },
    "kernelspec": {
      "name": "python3",
      "display_name": "Python 3"
    },
    "language_info": {
      "name": "python"
    }
  },
  "cells": [
    {
      "cell_type": "markdown",
      "metadata": {
        "id": "view-in-github",
        "colab_type": "text"
      },
      "source": [
        "<a href=\"https://colab.research.google.com/github/HariBejju/ML_DL_AI/blob/main/BagOfWords.ipynb\" target=\"_parent\"><img src=\"https://colab.research.google.com/assets/colab-badge.svg\" alt=\"Open In Colab\"/></a>"
      ]
    },
    {
      "cell_type": "code",
      "execution_count": 1,
      "metadata": {
        "id": "zFPLcrQ_NdBJ",
        "colab": {
          "base_uri": "https://localhost:8080/"
        },
        "outputId": "e256cdcc-36ca-4a1e-821d-2eccfcd7c37a"
      },
      "outputs": [
        {
          "output_type": "stream",
          "name": "stdout",
          "text": [
            "Label: ham | Message: I'll call you later, I’m in a meeting now.\n",
            "Label: spam | Message: Congratulations! You’ve won a free iPhone. Click here to claim.\n",
            "Label: ham | Message: Don’t forget to bring your notebook tomorrow.\n",
            "Label: spam | Message: You have been selected for a cash prize. Reply YES to claim.\n",
            "Label: ham | Message: Can we reschedule our lunch to next week?\n",
            "Label: spam | Message: Get cheap loans now with 0% interest. Apply today!\n",
            "Label: ham | Message: Meeting is confirmed for 3 PM today.\n",
            "Label: spam | Message: Win a brand new car! Just send WIN to 55555.\n",
            "Label: ham | Message: Let’s catch up this weekend if you're free.\n",
            "Label: spam | Message: Your account has been suspended. Verify now to avoid closure.\n"
          ]
        }
      ],
      "source": [
        "# Your raw data\n",
        "data = \"\"\"ham\\tI'll call you later, I’m in a meeting now.\n",
        "spam\\tCongratulations! You’ve won a free iPhone. Click here to claim.\n",
        "ham\\tDon’t forget to bring your notebook tomorrow.\n",
        "spam\\tYou have been selected for a cash prize. Reply YES to claim.\n",
        "ham\\tCan we reschedule our lunch to next week?\n",
        "spam\\tGet cheap loans now with 0% interest. Apply today!\n",
        "ham\\tMeeting is confirmed for 3 PM today.\n",
        "spam\\tWin a brand new car! Just send WIN to 55555.\n",
        "ham\\tLet’s catch up this weekend if you're free.\n",
        "spam\\tYour account has been suspended. Verify now to avoid closure.\"\"\"\n",
        "\n",
        "# Split into lines\n",
        "lines = data.strip().split('\\n')\n",
        "\n",
        "# Split each line into label and message\n",
        "messages = []\n",
        "for line in lines:\n",
        "    label, message = line.split('\\t', 1)\n",
        "    messages.append((label, message))\n",
        "\n",
        "# Print result\n",
        "for label, msg in messages:\n",
        "    print(f\"Label: {label} | Message: {msg}\")\n"
      ]
    },
    {
      "cell_type": "markdown",
      "source": [
        "Data Cleaning and Preprocessing"
      ],
      "metadata": {
        "id": "w8rFdGKtZ15S"
      }
    },
    {
      "cell_type": "code",
      "source": [
        "import re\n",
        "import nltk\n",
        "nltk.download('stopwords')"
      ],
      "metadata": {
        "colab": {
          "base_uri": "https://localhost:8080/"
        },
        "id": "XJ0KtQE1Zttn",
        "outputId": "14fcc467-815a-48e6-b327-dd0dbdbb58f5"
      },
      "execution_count": 2,
      "outputs": [
        {
          "output_type": "stream",
          "name": "stderr",
          "text": [
            "[nltk_data] Downloading package stopwords to /root/nltk_data...\n",
            "[nltk_data]   Unzipping corpora/stopwords.zip.\n"
          ]
        },
        {
          "output_type": "execute_result",
          "data": {
            "text/plain": [
              "True"
            ]
          },
          "metadata": {},
          "execution_count": 2
        }
      ]
    },
    {
      "cell_type": "code",
      "source": [
        "from nltk.corpus import stopwords\n",
        "from nltk.stem.porter import PorterStemmer\n",
        "ps = PorterStemmer()"
      ],
      "metadata": {
        "id": "4YSMJfMAaEJ4"
      },
      "execution_count": 3,
      "outputs": []
    },
    {
      "cell_type": "code",
      "source": [
        "corpus = []\n",
        "for i in range(0,len(messages)):\n",
        "  review=re.sub('[^a-zA-Z]',' ',messages[i][1])\n",
        "  review=review.lower()\n",
        "  review=review.split()\n",
        "  review=[ps.stem(word) for word in review if not word in stopwords.words('english')]\n",
        "  cleaned_review = \" \".join(review)\n",
        "  corpus.append(cleaned_review)  # <- this line is very important\n",
        "corpus"
      ],
      "metadata": {
        "colab": {
          "base_uri": "https://localhost:8080/"
        },
        "id": "vkQbLxwYaQY_",
        "outputId": "b1a277e4-ff9a-4693-ad42-b714ac9a0c57"
      },
      "execution_count": 4,
      "outputs": [
        {
          "output_type": "execute_result",
          "data": {
            "text/plain": [
              "['call later meet',\n",
              " 'congratul free iphon click claim',\n",
              " 'forget bring notebook tomorrow',\n",
              " 'select cash prize repli ye claim',\n",
              " 'reschedul lunch next week',\n",
              " 'get cheap loan interest appli today',\n",
              " 'meet confirm pm today',\n",
              " 'win brand new car send win',\n",
              " 'let catch weekend free',\n",
              " 'account suspend verifi avoid closur']"
            ]
          },
          "metadata": {},
          "execution_count": 4
        }
      ]
    },
    {
      "cell_type": "code",
      "source": [
        "## create the bag of words\n",
        "from sklearn.feature_extraction.text import CountVectorizer\n",
        "#max_features - pick the top 2500 words with high frequency\n",
        "## this is becoz say there are 10000 words, the matrix size will be high\n",
        "## to get rid of this we use max_features\n",
        "cv=CountVectorizer(max_features=50,binary=True,ngram_range=(1,2))\n",
        "X=cv.fit_transform(corpus).toarray()\n",
        "X.shape"
      ],
      "metadata": {
        "colab": {
          "base_uri": "https://localhost:8080/"
        },
        "id": "m7yHL7DKbZ51",
        "outputId": "325f57b0-6f19-43bd-d6d1-9735fd652de5"
      },
      "execution_count": 9,
      "outputs": [
        {
          "output_type": "execute_result",
          "data": {
            "text/plain": [
              "(10, 50)"
            ]
          },
          "metadata": {},
          "execution_count": 9
        }
      ]
    },
    {
      "cell_type": "code",
      "source": [
        "X"
      ],
      "metadata": {
        "colab": {
          "base_uri": "https://localhost:8080/"
        },
        "id": "wfnACHfmesuL",
        "outputId": "d7bcf3a9-6711-4311-bcd3-fbf93682568e"
      },
      "execution_count": 10,
      "outputs": [
        {
          "output_type": "execute_result",
          "data": {
            "text/plain": [
              "array([[0, 0, 0, 0, 0, 0, 0, 0, 0, 1, 1, 0, 0, 0, 0, 0, 0, 0, 0, 0, 0, 0,\n",
              "        0, 0, 0, 0, 0, 0, 0, 0, 0, 0, 0, 0, 0, 0, 0, 1, 1, 0, 0, 0, 0, 0,\n",
              "        0, 1, 0, 0, 0, 0],\n",
              "       [0, 0, 0, 0, 0, 0, 0, 0, 0, 0, 0, 0, 0, 0, 0, 0, 0, 0, 0, 1, 1, 1,\n",
              "        0, 0, 0, 1, 1, 0, 0, 1, 1, 0, 0, 0, 0, 1, 1, 0, 0, 0, 0, 0, 0, 0,\n",
              "        0, 0, 0, 0, 0, 0],\n",
              "       [0, 0, 0, 0, 0, 0, 0, 1, 1, 0, 0, 0, 0, 0, 0, 0, 0, 0, 0, 0, 0, 0,\n",
              "        0, 0, 0, 0, 0, 1, 1, 0, 0, 0, 0, 0, 0, 0, 0, 0, 0, 0, 0, 0, 0, 0,\n",
              "        0, 0, 0, 0, 0, 0],\n",
              "       [0, 0, 0, 0, 0, 0, 0, 0, 0, 0, 0, 0, 0, 1, 1, 0, 0, 0, 0, 1, 0, 0,\n",
              "        0, 0, 0, 0, 0, 0, 0, 0, 0, 0, 0, 0, 0, 0, 0, 0, 0, 0, 0, 0, 0, 0,\n",
              "        0, 0, 0, 0, 0, 0],\n",
              "       [0, 0, 0, 0, 0, 0, 0, 0, 0, 0, 0, 0, 0, 0, 0, 0, 0, 0, 0, 0, 0, 0,\n",
              "        0, 0, 0, 0, 0, 0, 0, 0, 0, 0, 0, 0, 0, 0, 0, 0, 0, 0, 0, 0, 0, 1,\n",
              "        1, 0, 0, 0, 0, 0],\n",
              "       [0, 0, 1, 1, 0, 0, 0, 0, 0, 0, 0, 0, 0, 0, 0, 0, 0, 1, 1, 0, 0, 0,\n",
              "        0, 0, 0, 0, 0, 0, 0, 0, 0, 1, 1, 1, 1, 0, 0, 0, 0, 0, 0, 1, 1, 0,\n",
              "        0, 0, 0, 0, 0, 1],\n",
              "       [0, 0, 0, 0, 0, 0, 0, 0, 0, 0, 0, 0, 0, 0, 0, 0, 0, 0, 0, 0, 0, 0,\n",
              "        0, 1, 1, 0, 0, 0, 0, 0, 0, 0, 0, 0, 0, 0, 0, 0, 0, 0, 0, 0, 0, 0,\n",
              "        0, 1, 1, 0, 0, 1],\n",
              "       [0, 0, 0, 0, 0, 0, 1, 0, 0, 0, 0, 1, 1, 0, 0, 0, 0, 0, 0, 0, 0, 0,\n",
              "        0, 0, 0, 0, 0, 0, 0, 0, 0, 0, 0, 0, 0, 0, 0, 0, 0, 0, 0, 0, 0, 0,\n",
              "        0, 0, 0, 1, 1, 0],\n",
              "       [0, 0, 0, 0, 0, 0, 0, 0, 0, 0, 0, 0, 0, 0, 0, 1, 1, 0, 0, 0, 0, 0,\n",
              "        0, 0, 0, 0, 0, 0, 0, 1, 0, 0, 0, 0, 0, 0, 0, 0, 0, 1, 1, 0, 0, 0,\n",
              "        0, 0, 0, 0, 0, 0],\n",
              "       [1, 1, 0, 0, 1, 1, 0, 0, 0, 0, 0, 0, 0, 0, 0, 0, 0, 0, 0, 0, 0, 0,\n",
              "        1, 0, 0, 0, 0, 0, 0, 0, 0, 0, 0, 0, 0, 0, 0, 0, 0, 0, 0, 0, 0, 0,\n",
              "        0, 0, 0, 0, 0, 0]])"
            ]
          },
          "metadata": {},
          "execution_count": 10
        }
      ]
    },
    {
      "cell_type": "markdown",
      "source": [
        "##N GRAMS\n"
      ],
      "metadata": {
        "id": "eleri1bXFtwz"
      }
    },
    {
      "cell_type": "code",
      "source": [
        "cv.vocabulary_"
      ],
      "metadata": {
        "id": "Jpztz6ONh5xY",
        "colab": {
          "base_uri": "https://localhost:8080/"
        },
        "outputId": "36b10f39-fc0e-4f83-b364-a832ead913ab"
      },
      "execution_count": 11,
      "outputs": [
        {
          "output_type": "execute_result",
          "data": {
            "text/plain": [
              "{'call': np.int64(9),\n",
              " 'later': np.int64(37),\n",
              " 'meet': np.int64(45),\n",
              " 'call later': np.int64(10),\n",
              " 'later meet': np.int64(38),\n",
              " 'congratul': np.int64(25),\n",
              " 'free': np.int64(29),\n",
              " 'iphon': np.int64(35),\n",
              " 'click': np.int64(20),\n",
              " 'claim': np.int64(19),\n",
              " 'congratul free': np.int64(26),\n",
              " 'free iphon': np.int64(30),\n",
              " 'iphon click': np.int64(36),\n",
              " 'click claim': np.int64(21),\n",
              " 'forget': np.int64(27),\n",
              " 'bring': np.int64(7),\n",
              " 'forget bring': np.int64(28),\n",
              " 'bring notebook': np.int64(8),\n",
              " 'cash': np.int64(13),\n",
              " 'cash prize': np.int64(14),\n",
              " 'lunch': np.int64(43),\n",
              " 'lunch next': np.int64(44),\n",
              " 'get': np.int64(31),\n",
              " 'cheap': np.int64(17),\n",
              " 'loan': np.int64(41),\n",
              " 'interest': np.int64(33),\n",
              " 'appli': np.int64(2),\n",
              " 'today': np.int64(49),\n",
              " 'get cheap': np.int64(32),\n",
              " 'cheap loan': np.int64(18),\n",
              " 'loan interest': np.int64(42),\n",
              " 'interest appli': np.int64(34),\n",
              " 'appli today': np.int64(3),\n",
              " 'confirm': np.int64(23),\n",
              " 'meet confirm': np.int64(46),\n",
              " 'confirm pm': np.int64(24),\n",
              " 'brand': np.int64(6),\n",
              " 'new': np.int64(47),\n",
              " 'car': np.int64(11),\n",
              " 'new car': np.int64(48),\n",
              " 'car send': np.int64(12),\n",
              " 'let': np.int64(39),\n",
              " 'catch': np.int64(15),\n",
              " 'let catch': np.int64(40),\n",
              " 'catch weekend': np.int64(16),\n",
              " 'account': np.int64(0),\n",
              " 'avoid': np.int64(4),\n",
              " 'closur': np.int64(22),\n",
              " 'account suspend': np.int64(1),\n",
              " 'avoid closur': np.int64(5)}"
            ]
          },
          "metadata": {},
          "execution_count": 11
        }
      ]
    },
    {
      "cell_type": "code",
      "source": [],
      "metadata": {
        "id": "QYdEVRcgFtD7"
      },
      "execution_count": 7,
      "outputs": []
    }
  ]
}