{
  "nbformat": 4,
  "nbformat_minor": 0,
  "metadata": {
    "colab": {
      "provenance": [],
      "authorship_tag": "ABX9TyNPC8H5fd1xy7PAdOFlbyH8",
      "include_colab_link": true
    },
    "kernelspec": {
      "name": "python3",
      "display_name": "Python 3"
    },
    "language_info": {
      "name": "python"
    }
  },
  "cells": [
    {
      "cell_type": "markdown",
      "metadata": {
        "id": "view-in-github",
        "colab_type": "text"
      },
      "source": [
        "<a href=\"https://colab.research.google.com/github/HariBejju/ML_DL_AI/blob/main/TF_IDF.ipynb\" target=\"_parent\"><img src=\"https://colab.research.google.com/assets/colab-badge.svg\" alt=\"Open In Colab\"/></a>"
      ]
    },
    {
      "cell_type": "code",
      "execution_count": null,
      "metadata": {
        "colab": {
          "base_uri": "https://localhost:8080/"
        },
        "id": "QMHyWhumNWfs",
        "outputId": "599deec2-f9fe-4466-db35-11f15e96825a"
      },
      "outputs": [
        {
          "output_type": "stream",
          "name": "stdout",
          "text": [
            "Label: ham | Message: I'll call you later, I’m in a meeting now.\n",
            "Label: spam | Message: Congratulations! You’ve won a free iPhone. Click here to claim.\n",
            "Label: ham | Message: Don’t forget to bring your notebook tomorrow.\n",
            "Label: spam | Message: You have been selected for a cash prize. Reply YES to claim.\n",
            "Label: ham | Message: Can we reschedule our lunch to next week?\n",
            "Label: spam | Message: Get cheap loans now with 0% interest. Apply today!\n",
            "Label: ham | Message: Meeting is confirmed for 3 PM today.\n",
            "Label: spam | Message: Win a brand new car! Just send WIN to 55555.\n",
            "Label: ham | Message: Let’s catch up this weekend if you're free.\n",
            "Label: spam | Message: Your account has been suspended. Verify now to avoid closure.\n"
          ]
        }
      ],
      "source": [
        "# Your raw data\n",
        "data = \"\"\"ham\\tI'll call you later, I’m in a meeting now.\n",
        "spam\\tCongratulations! You’ve won a free iPhone. Click here to claim.\n",
        "ham\\tDon’t forget to bring your notebook tomorrow.\n",
        "spam\\tYou have been selected for a cash prize. Reply YES to claim.\n",
        "ham\\tCan we reschedule our lunch to next week?\n",
        "spam\\tGet cheap loans now with 0% interest. Apply today!\n",
        "ham\\tMeeting is confirmed for 3 PM today.\n",
        "spam\\tWin a brand new car! Just send WIN to 55555.\n",
        "ham\\tLet’s catch up this weekend if you're free.\n",
        "spam\\tYour account has been suspended. Verify now to avoid closure.\"\"\"\n",
        "\n",
        "# Split into lines\n",
        "lines = data.strip().split('\\n')\n",
        "\n",
        "# Split each line into label and message\n",
        "messages = []\n",
        "for line in lines:\n",
        "    label, message = line.split('\\t', 1)\n",
        "    messages.append((label, message))\n",
        "\n",
        "# Print result\n",
        "for label, msg in messages:\n",
        "    print(f\"Label: {label} | Message: {msg}\")\n"
      ]
    },
    {
      "cell_type": "code",
      "source": [
        "import re\n",
        "import nltk\n",
        "nltk.download('stopwords')"
      ],
      "metadata": {
        "colab": {
          "base_uri": "https://localhost:8080/"
        },
        "id": "dJODieJtNffw",
        "outputId": "c202d537-9dae-4e7e-8bc6-6ba2c5ef1ada"
      },
      "execution_count": null,
      "outputs": [
        {
          "output_type": "stream",
          "name": "stderr",
          "text": [
            "[nltk_data] Downloading package stopwords to /root/nltk_data...\n",
            "[nltk_data]   Unzipping corpora/stopwords.zip.\n"
          ]
        },
        {
          "output_type": "execute_result",
          "data": {
            "text/plain": [
              "True"
            ]
          },
          "metadata": {},
          "execution_count": 2
        }
      ]
    },
    {
      "cell_type": "code",
      "source": [
        "from nltk.corpus import stopwords, wordnet\n",
        "from nltk.stem import WordNetLemmatizer\n",
        "wordlemmatize = WordNetLemmatizer()"
      ],
      "metadata": {
        "id": "FQ2gXFr7NlQL"
      },
      "execution_count": null,
      "outputs": []
    },
    {
      "cell_type": "code",
      "source": [
        "nltk.download('wordnet')"
      ],
      "metadata": {
        "colab": {
          "base_uri": "https://localhost:8080/"
        },
        "id": "MKC2ALPZOJoB",
        "outputId": "5784bef3-c45b-402f-8891-d226eefee787"
      },
      "execution_count": null,
      "outputs": [
        {
          "output_type": "stream",
          "name": "stderr",
          "text": [
            "[nltk_data] Downloading package wordnet to /root/nltk_data...\n"
          ]
        },
        {
          "output_type": "execute_result",
          "data": {
            "text/plain": [
              "True"
            ]
          },
          "metadata": {},
          "execution_count": 6
        }
      ]
    },
    {
      "cell_type": "code",
      "source": [
        "corpus = []\n",
        "for i in range(0,len(messages)):\n",
        "  review=re.sub('[^a-zA-Z]',' ',messages[i][1])\n",
        "  review=review.lower()\n",
        "  review=review.split()\n",
        "  review=[wordlemmatize.lemmatize(word) for word in review if not word in stopwords.words('english')]\n",
        "  cleaned_review = \" \".join(review)\n",
        "  corpus.append(cleaned_review)  # <- this line is very important\n",
        "corpus"
      ],
      "metadata": {
        "colab": {
          "base_uri": "https://localhost:8080/"
        },
        "id": "WmrKoNLRNuJT",
        "outputId": "b26818de-374a-4377-e31b-1f6ffc7f3302"
      },
      "execution_count": null,
      "outputs": [
        {
          "output_type": "execute_result",
          "data": {
            "text/plain": [
              "['call later meeting',\n",
              " 'congratulation free iphone click claim',\n",
              " 'forget bring notebook tomorrow',\n",
              " 'selected cash prize reply yes claim',\n",
              " 'reschedule lunch next week',\n",
              " 'get cheap loan interest apply today',\n",
              " 'meeting confirmed pm today',\n",
              " 'win brand new car send win',\n",
              " 'let catch weekend free',\n",
              " 'account suspended verify avoid closure']"
            ]
          },
          "metadata": {},
          "execution_count": 7
        }
      ]
    },
    {
      "cell_type": "code",
      "source": [
        "from sklearn.feature_extraction.text import TfidfVectorizer\n",
        "tfidf=TfidfVectorizer()\n",
        "x=tfidf.fit_transform(corpus).toarray()\n",
        "x"
      ],
      "metadata": {
        "colab": {
          "base_uri": "https://localhost:8080/"
        },
        "id": "RvrLXHJaN-dk",
        "outputId": "ae8134ef-eb83-4d77-fdf3-640cd28de13c"
      },
      "execution_count": null,
      "outputs": [
        {
          "output_type": "execute_result",
          "data": {
            "text/plain": [
              "array([[0.        , 0.        , 0.        , 0.        , 0.        ,\n",
              "        0.60604332, 0.        , 0.        , 0.        , 0.        ,\n",
              "        0.        , 0.        , 0.        , 0.        , 0.        ,\n",
              "        0.        , 0.        , 0.        , 0.        , 0.        ,\n",
              "        0.60604332, 0.        , 0.        , 0.        , 0.51519219,\n",
              "        0.        , 0.        , 0.        , 0.        , 0.        ,\n",
              "        0.        , 0.        , 0.        , 0.        , 0.        ,\n",
              "        0.        , 0.        , 0.        , 0.        , 0.        ,\n",
              "        0.        , 0.        ],\n",
              "       [0.        , 0.        , 0.        , 0.        , 0.        ,\n",
              "        0.        , 0.        , 0.        , 0.        , 0.        ,\n",
              "        0.40319445, 0.47429543, 0.        , 0.        , 0.47429543,\n",
              "        0.        , 0.40319445, 0.        , 0.        , 0.47429543,\n",
              "        0.        , 0.        , 0.        , 0.        , 0.        ,\n",
              "        0.        , 0.        , 0.        , 0.        , 0.        ,\n",
              "        0.        , 0.        , 0.        , 0.        , 0.        ,\n",
              "        0.        , 0.        , 0.        , 0.        , 0.        ,\n",
              "        0.        , 0.        ],\n",
              "       [0.        , 0.        , 0.        , 0.        , 0.5       ,\n",
              "        0.        , 0.        , 0.        , 0.        , 0.        ,\n",
              "        0.        , 0.        , 0.        , 0.        , 0.        ,\n",
              "        0.5       , 0.        , 0.        , 0.        , 0.        ,\n",
              "        0.        , 0.        , 0.        , 0.        , 0.        ,\n",
              "        0.        , 0.        , 0.5       , 0.        , 0.        ,\n",
              "        0.        , 0.        , 0.        , 0.        , 0.        ,\n",
              "        0.        , 0.5       , 0.        , 0.        , 0.        ,\n",
              "        0.        , 0.        ],\n",
              "       [0.        , 0.        , 0.        , 0.        , 0.        ,\n",
              "        0.        , 0.        , 0.41802399, 0.        , 0.        ,\n",
              "        0.35535858, 0.        , 0.        , 0.        , 0.        ,\n",
              "        0.        , 0.        , 0.        , 0.        , 0.        ,\n",
              "        0.        , 0.        , 0.        , 0.        , 0.        ,\n",
              "        0.        , 0.        , 0.        , 0.        , 0.41802399,\n",
              "        0.41802399, 0.        , 0.41802399, 0.        , 0.        ,\n",
              "        0.        , 0.        , 0.        , 0.        , 0.        ,\n",
              "        0.        , 0.41802399],\n",
              "       [0.        , 0.        , 0.        , 0.        , 0.        ,\n",
              "        0.        , 0.        , 0.        , 0.        , 0.        ,\n",
              "        0.        , 0.        , 0.        , 0.        , 0.        ,\n",
              "        0.        , 0.        , 0.        , 0.        , 0.        ,\n",
              "        0.        , 0.        , 0.        , 0.5       , 0.        ,\n",
              "        0.        , 0.5       , 0.        , 0.        , 0.        ,\n",
              "        0.        , 0.5       , 0.        , 0.        , 0.        ,\n",
              "        0.        , 0.        , 0.        , 0.5       , 0.        ,\n",
              "        0.        , 0.        ],\n",
              "       [0.        , 0.41802399, 0.        , 0.        , 0.        ,\n",
              "        0.        , 0.        , 0.        , 0.        , 0.41802399,\n",
              "        0.        , 0.        , 0.        , 0.        , 0.        ,\n",
              "        0.        , 0.        , 0.41802399, 0.41802399, 0.        ,\n",
              "        0.        , 0.        , 0.41802399, 0.        , 0.        ,\n",
              "        0.        , 0.        , 0.        , 0.        , 0.        ,\n",
              "        0.        , 0.        , 0.        , 0.        , 0.        ,\n",
              "        0.35535858, 0.        , 0.        , 0.        , 0.        ,\n",
              "        0.        , 0.        ],\n",
              "       [0.        , 0.        , 0.        , 0.        , 0.        ,\n",
              "        0.        , 0.        , 0.        , 0.        , 0.        ,\n",
              "        0.        , 0.        , 0.        , 0.53874817, 0.        ,\n",
              "        0.        , 0.        , 0.        , 0.        , 0.        ,\n",
              "        0.        , 0.        , 0.        , 0.        , 0.45798516,\n",
              "        0.        , 0.        , 0.        , 0.53874817, 0.        ,\n",
              "        0.        , 0.        , 0.        , 0.        , 0.        ,\n",
              "        0.45798516, 0.        , 0.        , 0.        , 0.        ,\n",
              "        0.        , 0.        ],\n",
              "       [0.        , 0.        , 0.        , 0.35355339, 0.        ,\n",
              "        0.        , 0.35355339, 0.        , 0.        , 0.        ,\n",
              "        0.        , 0.        , 0.        , 0.        , 0.        ,\n",
              "        0.        , 0.        , 0.        , 0.        , 0.        ,\n",
              "        0.        , 0.        , 0.        , 0.        , 0.        ,\n",
              "        0.35355339, 0.        , 0.        , 0.        , 0.        ,\n",
              "        0.        , 0.        , 0.        , 0.35355339, 0.        ,\n",
              "        0.        , 0.        , 0.        , 0.        , 0.        ,\n",
              "        0.70710678, 0.        ],\n",
              "       [0.        , 0.        , 0.        , 0.        , 0.        ,\n",
              "        0.        , 0.        , 0.        , 0.5182909 , 0.        ,\n",
              "        0.        , 0.        , 0.        , 0.        , 0.        ,\n",
              "        0.        , 0.44059462, 0.        , 0.        , 0.        ,\n",
              "        0.        , 0.5182909 , 0.        , 0.        , 0.        ,\n",
              "        0.        , 0.        , 0.        , 0.        , 0.        ,\n",
              "        0.        , 0.        , 0.        , 0.        , 0.        ,\n",
              "        0.        , 0.        , 0.        , 0.        , 0.5182909 ,\n",
              "        0.        , 0.        ],\n",
              "       [0.4472136 , 0.        , 0.4472136 , 0.        , 0.        ,\n",
              "        0.        , 0.        , 0.        , 0.        , 0.        ,\n",
              "        0.        , 0.        , 0.4472136 , 0.        , 0.        ,\n",
              "        0.        , 0.        , 0.        , 0.        , 0.        ,\n",
              "        0.        , 0.        , 0.        , 0.        , 0.        ,\n",
              "        0.        , 0.        , 0.        , 0.        , 0.        ,\n",
              "        0.        , 0.        , 0.        , 0.        , 0.4472136 ,\n",
              "        0.        , 0.        , 0.4472136 , 0.        , 0.        ,\n",
              "        0.        , 0.        ]])"
            ]
          },
          "metadata": {},
          "execution_count": 8
        }
      ]
    },
    {
      "cell_type": "code",
      "metadata": {
        "id": "39085e86"
      },
      "source": [],
      "execution_count": null,
      "outputs": []
    }
  ]
}